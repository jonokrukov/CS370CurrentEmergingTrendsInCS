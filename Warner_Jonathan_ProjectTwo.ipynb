{
 "cells": [
  {
   "cell_type": "markdown",
   "metadata": {},
   "source": [
    "# Treasure Hunt Game Notebook\n",
    "\n",
    "## Read and Review Your Starter Code\n",
    "The theme of this project is a popular treasure hunt game in which the player needs to find the treasure before the pirate does. While you will not be developing the entire game, you will write the part of the game that represents the intelligent agent, which is a pirate in this case. The pirate will try to find the optimal path to the treasure using deep Q-learning. \n",
    "\n",
    "You have been provided with two Python classes and this notebook to help you with this assignment. The first class, TreasureMaze.py, represents the environment, which includes a maze object defined as a matrix. The second class, GameExperience.py, stores the episodes – that is, all the states that come in between the initial state and the terminal state. This is later used by the agent for learning by experience, called \"exploration\". This notebook shows how to play a game. Your task is to complete the deep Q-learning implementation for which a skeleton implementation has been provided. The code blocks you will need to complete has #TODO as a header.\n",
    "\n",
    "First, read and review the next few code and instruction blocks to understand the code that you have been given."
   ]
  },
  {
   "cell_type": "code",
   "execution_count": 1,
   "metadata": {},
   "outputs": [
    {
     "name": "stderr",
     "output_type": "stream",
     "text": [
      "Using TensorFlow backend.\n"
     ]
    }
   ],
   "source": [
    "from __future__ import print_function\n",
    "import os, sys, time, datetime, json, random\n",
    "import numpy as np\n",
    "from keras.models import Sequential\n",
    "from keras.layers.core import Dense, Activation\n",
    "from keras.optimizers import SGD , Adam, RMSprop\n",
    "from keras.layers.advanced_activations import PReLU\n",
    "import matplotlib.pyplot as plt\n",
    "from TreasureMaze import TreasureMaze\n",
    "from GameExperience import GameExperience\n",
    "%matplotlib inline"
   ]
  },
  {
   "cell_type": "markdown",
   "metadata": {},
   "source": [
    "The following code block contains an 8x8 matrix that will be used as a maze object:"
   ]
  },
  {
   "cell_type": "code",
   "execution_count": 2,
   "metadata": {},
   "outputs": [],
   "source": [
    "maze = np.array([\n",
    "    [ 1.,  0.,  1.,  1.,  1.,  1.,  1.,  1.],\n",
    "    [ 1.,  0.,  1.,  1.,  1.,  0.,  1.,  1.],\n",
    "    [ 1.,  1.,  1.,  1.,  0.,  1.,  0.,  1.],\n",
    "    [ 1.,  1.,  1.,  0.,  1.,  1.,  1.,  1.],\n",
    "    [ 1.,  1.,  0.,  1.,  1.,  1.,  1.,  1.],\n",
    "    [ 1.,  1.,  1.,  0.,  1.,  0.,  0.,  0.],\n",
    "    [ 1.,  1.,  1.,  0.,  1.,  1.,  1.,  1.],\n",
    "    [ 1.,  1.,  1.,  1.,  0.,  1.,  1.,  1.]\n",
    "])"
   ]
  },
  {
   "cell_type": "markdown",
   "metadata": {},
   "source": [
    "This helper function allows a visual representation of the maze object:"
   ]
  },
  {
   "cell_type": "code",
   "execution_count": 3,
   "metadata": {},
   "outputs": [],
   "source": [
    "def show(qmaze):\n",
    "    plt.grid('on')\n",
    "    nrows, ncols = qmaze.maze.shape\n",
    "    ax = plt.gca()\n",
    "    ax.set_xticks(np.arange(0.5, nrows, 1))\n",
    "    ax.set_yticks(np.arange(0.5, ncols, 1))\n",
    "    ax.set_xticklabels([])\n",
    "    ax.set_yticklabels([])\n",
    "    canvas = np.copy(qmaze.maze)\n",
    "    for row,col in qmaze.visited:\n",
    "        canvas[row,col] = 0.6\n",
    "    pirate_row, pirate_col, _ = qmaze.state\n",
    "    canvas[pirate_row, pirate_col] = 0.3   # pirate cell\n",
    "    canvas[nrows-1, ncols-1] = 0.9 # treasure cell\n",
    "    img = plt.imshow(canvas, interpolation='none', cmap='gray')\n",
    "    return img"
   ]
  },
  {
   "cell_type": "markdown",
   "metadata": {},
   "source": [
    "The pirate agent can move in four directions: left, right, up, and down. \n",
    "\n",
    "While the agent primarily learns by experience through exploitation, often, the agent can choose to explore the environment to find previously undiscovered paths. This is called \"exploration\" and is defined by epsilon. This value is typically a lower value such as 0.1, which means for every ten attempts, the agent will attempt to learn by experience nine times and will randomly explore a new path one time. You are encouraged to try various values for the exploration factor and see how the algorithm performs."
   ]
  },
  {
   "cell_type": "code",
   "execution_count": 4,
   "metadata": {},
   "outputs": [],
   "source": [
    "LEFT = 0\n",
    "UP = 1\n",
    "RIGHT = 2\n",
    "DOWN = 3\n",
    "\n",
    "\n",
    "# Exploration factor\n",
    "epsilon = 0.1\n",
    "\n",
    "# Actions dictionary\n",
    "actions_dict = {\n",
    "    LEFT: 'left',\n",
    "    UP: 'up',\n",
    "    RIGHT: 'right',\n",
    "    DOWN: 'down',\n",
    "}\n",
    "\n",
    "num_actions = len(actions_dict)\n"
   ]
  },
  {
   "cell_type": "markdown",
   "metadata": {},
   "source": [
    "The sample code block and output below show creating a maze object and performing one action (DOWN), which returns the reward. The resulting updated environment is visualized."
   ]
  },
  {
   "cell_type": "code",
   "execution_count": 5,
   "metadata": {},
   "outputs": [
    {
     "name": "stdout",
     "output_type": "stream",
     "text": [
      "reward= -0.04\n"
     ]
    },
    {
     "data": {
      "text/plain": [
       "<matplotlib.image.AxesImage at 0x1762f9819c8>"
      ]
     },
     "execution_count": 5,
     "metadata": {},
     "output_type": "execute_result"
    },
    {
     "data": {
      "image/png": "[encoded data removed]",
      "text/plain": [
       "<Figure size 432x288 with 1 Axes>"
      ]
     },
     "metadata": {
      "needs_background": "light"
     },
     "output_type": "display_data"
    }
   ],
   "source": [
    "qmaze = TreasureMaze(maze)\n",
    "canvas, reward, game_over = qmaze.act(DOWN)\n",
    "print(\"reward=\", reward)\n",
    "show(qmaze)"
   ]
  },
  {
   "cell_type": "markdown",
   "metadata": {},
   "source": [
    "This function simulates a full game based on the provided trained model. The other parameters include the TreasureMaze object and the starting position of the pirate."
   ]
  },
  {
   "cell_type": "code",
   "execution_count": 6,
   "metadata": {},
   "outputs": [],
   "source": [
    "def play_game(model, qmaze, pirate_cell):\n",
    "    qmaze.reset(pirate_cell)\n",
    "    envstate = qmaze.observe()\n",
    "    while True:\n",
    "        prev_envstate = envstate\n",
    "        # get next action\n",
    "        q = model.predict(prev_envstate)\n",
    "        action = np.argmax(q[0])\n",
    "\n",
    "        # apply action, get rewards and new state\n",
    "        envstate, reward, game_status = qmaze.act(action)\n",
    "        if game_status == 'win':\n",
    "            return True\n",
    "        elif game_status == 'lose':\n",
    "            return False"
   ]
  },
  {
   "cell_type": "markdown",
   "metadata": {},
   "source": [
    "This function helps you to determine whether the pirate can win any game at all. If your maze is not well designed, the pirate may not win any game at all. In this case, your training would not yield any result. The provided maze in this notebook ensures that there is a path to win and you can run this method to check."
   ]
  },
  {
   "cell_type": "code",
   "execution_count": 7,
   "metadata": {},
   "outputs": [],
   "source": [
    "def completion_check(model, qmaze):\n",
    "    for cell in qmaze.free_cells:\n",
    "        if not qmaze.valid_actions(cell):\n",
    "            return False\n",
    "        if not play_game(model, qmaze, cell):\n",
    "            return False\n",
    "    return True"
   ]
  },
  {
   "cell_type": "markdown",
   "metadata": {},
   "source": [
    "The code you have been given in this block will build the neural network model. Review the code and note the number of layers, as well as the activation, optimizer, and loss functions that are used to train the model."
   ]
  },
  {
   "cell_type": "code",
   "execution_count": 8,
   "metadata": {},
   "outputs": [],
   "source": [
    "def build_model(maze):\n",
    "    model = Sequential()\n",
    "    model.add(Dense(maze.size, input_shape=(maze.size,)))\n",
    "    model.add(PReLU())\n",
    "    model.add(Dense(maze.size))\n",
    "    model.add(PReLU())\n",
    "    model.add(Dense(num_actions))\n",
    "    model.compile(optimizer='adam', loss='mse')\n",
    "    return model"
   ]
  },
  {
   "cell_type": "markdown",
   "metadata": {},
   "source": [
    "# #TODO: Complete the Q-Training Algorithm Code Block\n",
    "\n",
    "This is your deep Q-learning implementation. The goal of your deep Q-learning implementation is to find the best possible navigation sequence that results in reaching the treasure cell while maximizing the reward. In your implementation, you need to determine the optimal number of epochs to achieve a 100% win rate.\n",
    "\n",
    "You will need to complete the section starting with #pseudocode. The pseudocode has been included for you."
   ]
  },
  {
   "cell_type": "code",
   "execution_count": 9,
   "metadata": {},
   "outputs": [],
   "source": [
    "# Q-Training function\n",
    "def qtrain(model, maze, **opt):\n",
    "\n",
    "    global epsilon \n",
    "\n",
    "    # Number of training epochs\n",
    "    n_epoch = opt.get('n_epoch', 15000)\n",
    "    # Maximum memory size for experience replay\n",
    "    max_memory = opt.get('max_memory', 1000)\n",
    "    # Size of data used for training in each epoch\n",
    "    data_size = opt.get('data_size', 50)\n",
    "\n",
    "    # Record the start time of training\n",
    "    start_time = datetime.datetime.now()\n",
    "\n",
    "    # Initialize the maze environment\n",
    "    qmaze = TreasureMaze(maze)\n",
    "    # Initialize experience replay object\n",
    "    experience = GameExperience(model, max_memory=max_memory)\n",
    "    \n",
    "    # Track the history of wins\n",
    "    win_history = []\n",
    "    # Half the size of the maze for window size\n",
    "    hsize = qmaze.maze.size // 2\n",
    "    win_rate = 0.0\n",
    "    \n",
    "    # Training loop for each epoch\n",
    "    for epoch in range(n_epoch):\n",
    "        # Randomly select a free cell to start the agent\n",
    "        agent_cell = random.choice(qmaze.free_cells)\n",
    "        qmaze.reset(agent_cell)\n",
    "        # Get the initial state of the environment\n",
    "        envstate = qmaze.observe()\n",
    "        loss = 0.0\n",
    "        n_episodes = 0\n",
    "        \n",
    "        # Loop until the game is over\n",
    "        while qmaze.game_status() == 'not_over':\n",
    "            previous_envstate = envstate\n",
    "            # Choose action: explore or exploit\n",
    "            if np.random.rand() < epsilon:\n",
    "                action = random.choice(qmaze.valid_actions())\n",
    "            else:\n",
    "                q_values = model.predict(previous_envstate)\n",
    "                action = np.argmax(q_values[0])\n",
    "            \n",
    "            # Execute action and observe new state and reward\n",
    "            envstate, reward, game_status = qmaze.act(action)\n",
    "            episode = [previous_envstate, action, reward, envstate, game_status]\n",
    "            # Store episode in experience replay\n",
    "            experience.remember(episode)\n",
    "            # Train the model using experience replay data\n",
    "            inputs, targets = experience.get_data(data_size=data_size)\n",
    "            loss = model.train_on_batch(inputs, targets)\n",
    "            n_episodes += 1\n",
    "        \n",
    "        # Update win history and win rate\n",
    "        win_history.append(1 if game_status == 'win' else 0)\n",
    "        win_rate = sum(win_history) / len(win_history)\n",
    "\n",
    "\n",
    "    #Print the epoch, loss, episodes, win count, and win rate for each epoch\n",
    "        dt = datetime.datetime.now() - start_time\n",
    "        t = format_time(dt.total_seconds())\n",
    "        template = \"Epoch: {:03d}/{:d} | Loss: {:.4f} | Episodes: {:d} | Win count: {:d} | Win rate: {:.3f} | time: {}\"\n",
    "        print(template.format(epoch, n_epoch-1, loss, n_episodes, sum(win_history), win_rate, t))\n",
    "        # We simply check if training has exhausted all free cells and if in all\n",
    "        # cases the agent won.\n",
    "        if win_rate > 0.9 : epsilon = 0.05\n",
    "        if sum(win_history[-hsize:]) == hsize and completion_check(model, qmaze):\n",
    "            print(\"Reached 100%% win rate at epoch: %d\" % (epoch,))\n",
    "            break\n",
    "    \n",
    "    \n",
    "    # Determine the total time for training\n",
    "    dt = datetime.datetime.now() - start_time\n",
    "    seconds = dt.total_seconds()\n",
    "    t = format_time(seconds)\n",
    "\n",
    "    print(\"n_epoch: %d, max_mem: %d, data: %d, time: %s\" % (epoch, max_memory, data_size, t))\n",
    "    return seconds\n",
    "\n",
    "# This is a small utility for printing readable time strings:\n",
    "def format_time(seconds):\n",
    "    if seconds < 400:\n",
    "        s = float(seconds)\n",
    "        return \"%.1f seconds\" % (s,)\n",
    "    elif seconds < 4000:\n",
    "        m = seconds / 60.0\n",
    "        return \"%.2f minutes\" % (m,)\n",
    "    else:\n",
    "        h = seconds / 3600.0\n",
    "        return \"%.2f hours\" % (h,)"
   ]
  },
  {
   "cell_type": "markdown",
   "metadata": {},
   "source": [
    "## Test Your Model\n",
    "\n",
    "Now we will start testing the deep Q-learning implementation. To begin, select **Cell**, then **Run All** from the menu bar. This will run your notebook. As it runs, you should see output begin to appear beneath the next few cells. The code below creates an instance of TreasureMaze."
   ]
  },
  {
   "cell_type": "code",
   "execution_count": 10,
   "metadata": {},
   "outputs": [
    {
     "data": {
      "text/plain": [
       "<matplotlib.image.AxesImage at 0x1762f9f7088>"
      ]
     },
     "execution_count": 10,
     "metadata": {},
     "output_type": "execute_result"
    },
    {
     "data": {
      "image/png": "[encoded data removed]",
      "text/plain": [
       "<Figure size 432x288 with 1 Axes>"
      ]
     },
     "metadata": {
      "needs_background": "light"
     },
     "output_type": "display_data"
    }
   ],
   "source": [
    "qmaze = TreasureMaze(maze)\n",
    "show(qmaze)"
   ]
  },
  {
   "cell_type": "markdown",
   "metadata": {},
   "source": [
    "In the next code block, you will build your model and train it using deep Q-learning. Note: This step takes several minutes to fully run."
   ]
  },
  {
   "cell_type": "code",
   "execution_count": 11,
   "metadata": {},
   "outputs": [
    {
     "name": "stdout",
     "output_type": "stream",
     "text": [
      "Epoch: 000/14999 | Loss: 0.1040 | Episodes: 1 | Win count: 1 | Win rate: 1.000 | time: 1.4 seconds\n",
      "Epoch: 001/14999 | Loss: 0.0086 | Episodes: 113 | Win count: 2 | Win rate: 1.000 | time: 9.3 seconds\n",
      "Epoch: 002/14999 | Loss: 0.0010 | Episodes: 131 | Win count: 2 | Win rate: 0.667 | time: 20.0 seconds\n",
      "Epoch: 003/14999 | Loss: 0.0117 | Episodes: 62 | Win count: 3 | Win rate: 0.750 | time: 24.9 seconds\n",
      "Epoch: 004/14999 | Loss: 0.0010 | Episodes: 140 | Win count: 3 | Win rate: 0.600 | time: 36.3 seconds\n",
      "Epoch: 005/14999 | Loss: 0.0018 | Episodes: 134 | Win count: 3 | Win rate: 0.500 | time: 47.5 seconds\n",
      "Epoch: 006/14999 | Loss: 0.0008 | Episodes: 6 | Win count: 4 | Win rate: 0.571 | time: 48.3 seconds\n",
      "Epoch: 007/14999 | Loss: 0.0014 | Episodes: 147 | Win count: 4 | Win rate: 0.500 | time: 62.6 seconds\n",
      "Epoch: 008/14999 | Loss: 0.0011 | Episodes: 144 | Win count: 4 | Win rate: 0.444 | time: 74.1 seconds\n",
      "Epoch: 009/14999 | Loss: 0.0014 | Episodes: 140 | Win count: 4 | Win rate: 0.400 | time: 84.9 seconds\n",
      "Epoch: 010/14999 | Loss: 0.0012 | Episodes: 142 | Win count: 4 | Win rate: 0.364 | time: 96.5 seconds\n",
      "Epoch: 011/14999 | Loss: 0.0011 | Episodes: 2 | Win count: 5 | Win rate: 0.417 | time: 96.7 seconds\n",
      "Epoch: 012/14999 | Loss: 0.0013 | Episodes: 135 | Win count: 5 | Win rate: 0.385 | time: 107.4 seconds\n",
      "Epoch: 013/14999 | Loss: 0.0012 | Episodes: 133 | Win count: 5 | Win rate: 0.357 | time: 119.0 seconds\n",
      "Epoch: 014/14999 | Loss: 0.0005 | Episodes: 144 | Win count: 5 | Win rate: 0.333 | time: 130.6 seconds\n",
      "Epoch: 015/14999 | Loss: 0.0006 | Episodes: 144 | Win count: 5 | Win rate: 0.312 | time: 141.7 seconds\n",
      "Epoch: 016/14999 | Loss: 0.0019 | Episodes: 1 | Win count: 6 | Win rate: 0.353 | time: 141.8 seconds\n",
      "Epoch: 017/14999 | Loss: 0.0100 | Episodes: 4 | Win count: 7 | Win rate: 0.389 | time: 142.2 seconds\n",
      "Epoch: 018/14999 | Loss: 0.0022 | Episodes: 144 | Win count: 7 | Win rate: 0.368 | time: 153.3 seconds\n",
      "Epoch: 019/14999 | Loss: 0.0016 | Episodes: 2 | Win count: 8 | Win rate: 0.400 | time: 153.5 seconds\n",
      "Epoch: 020/14999 | Loss: 0.0084 | Episodes: 138 | Win count: 8 | Win rate: 0.381 | time: 164.6 seconds\n",
      "Epoch: 021/14999 | Loss: 0.0110 | Episodes: 118 | Win count: 9 | Win rate: 0.409 | time: 174.3 seconds\n",
      "Epoch: 022/14999 | Loss: 0.0113 | Episodes: 74 | Win count: 10 | Win rate: 0.435 | time: 180.6 seconds\n",
      "Epoch: 023/14999 | Loss: 0.0009 | Episodes: 20 | Win count: 11 | Win rate: 0.458 | time: 182.4 seconds\n",
      "Epoch: 024/14999 | Loss: 0.0020 | Episodes: 10 | Win count: 12 | Win rate: 0.480 | time: 183.4 seconds\n",
      "Epoch: 025/14999 | Loss: 0.0022 | Episodes: 6 | Win count: 13 | Win rate: 0.500 | time: 183.8 seconds\n",
      "Epoch: 026/14999 | Loss: 0.0017 | Episodes: 134 | Win count: 13 | Win rate: 0.481 | time: 193.6 seconds\n",
      "Epoch: 027/14999 | Loss: 0.0025 | Episodes: 16 | Win count: 14 | Win rate: 0.500 | time: 194.8 seconds\n",
      "Epoch: 028/14999 | Loss: 0.0020 | Episodes: 148 | Win count: 14 | Win rate: 0.483 | time: 206.0 seconds\n",
      "Epoch: 029/14999 | Loss: 0.0010 | Episodes: 6 | Win count: 15 | Win rate: 0.500 | time: 206.5 seconds\n",
      "Epoch: 030/14999 | Loss: 0.0026 | Episodes: 98 | Win count: 16 | Win rate: 0.516 | time: 213.6 seconds\n",
      "Epoch: 031/14999 | Loss: 0.0033 | Episodes: 11 | Win count: 17 | Win rate: 0.531 | time: 214.4 seconds\n",
      "Epoch: 032/14999 | Loss: 0.0016 | Episodes: 40 | Win count: 18 | Win rate: 0.545 | time: 217.4 seconds\n",
      "Epoch: 033/14999 | Loss: 0.0018 | Episodes: 105 | Win count: 19 | Win rate: 0.559 | time: 225.5 seconds\n",
      "Epoch: 034/14999 | Loss: 0.0017 | Episodes: 61 | Win count: 20 | Win rate: 0.571 | time: 230.5 seconds\n",
      "Epoch: 035/14999 | Loss: 0.0028 | Episodes: 9 | Win count: 21 | Win rate: 0.583 | time: 231.3 seconds\n",
      "Epoch: 036/14999 | Loss: 0.0016 | Episodes: 44 | Win count: 22 | Win rate: 0.595 | time: 234.7 seconds\n",
      "Epoch: 037/14999 | Loss: 0.0013 | Episodes: 18 | Win count: 23 | Win rate: 0.605 | time: 236.1 seconds\n",
      "Epoch: 038/14999 | Loss: 0.0024 | Episodes: 134 | Win count: 23 | Win rate: 0.590 | time: 247.2 seconds\n",
      "Epoch: 039/14999 | Loss: 0.0015 | Episodes: 139 | Win count: 23 | Win rate: 0.575 | time: 257.6 seconds\n",
      "Epoch: 040/14999 | Loss: 0.0013 | Episodes: 138 | Win count: 23 | Win rate: 0.561 | time: 268.0 seconds\n",
      "Epoch: 041/14999 | Loss: 0.0008 | Episodes: 49 | Win count: 24 | Win rate: 0.571 | time: 271.6 seconds\n",
      "Epoch: 042/14999 | Loss: 0.0017 | Episodes: 47 | Win count: 25 | Win rate: 0.581 | time: 275.1 seconds\n",
      "Epoch: 043/14999 | Loss: 0.0018 | Episodes: 57 | Win count: 26 | Win rate: 0.591 | time: 279.4 seconds\n",
      "Epoch: 044/14999 | Loss: 0.0014 | Episodes: 10 | Win count: 27 | Win rate: 0.600 | time: 280.1 seconds\n",
      "Epoch: 045/14999 | Loss: 0.0028 | Episodes: 109 | Win count: 28 | Win rate: 0.609 | time: 288.0 seconds\n",
      "Epoch: 046/14999 | Loss: 0.0011 | Episodes: 19 | Win count: 29 | Win rate: 0.617 | time: 289.4 seconds\n",
      "Epoch: 047/14999 | Loss: 0.0014 | Episodes: 5 | Win count: 30 | Win rate: 0.625 | time: 289.8 seconds\n",
      "Epoch: 048/14999 | Loss: 0.0013 | Episodes: 24 | Win count: 31 | Win rate: 0.633 | time: 291.6 seconds\n",
      "Epoch: 049/14999 | Loss: 0.0021 | Episodes: 50 | Win count: 32 | Win rate: 0.640 | time: 295.4 seconds\n",
      "Epoch: 050/14999 | Loss: 0.0019 | Episodes: 68 | Win count: 33 | Win rate: 0.647 | time: 300.6 seconds\n",
      "Epoch: 051/14999 | Loss: 0.0019 | Episodes: 13 | Win count: 34 | Win rate: 0.654 | time: 301.6 seconds\n",
      "Epoch: 052/14999 | Loss: 0.0030 | Episodes: 41 | Win count: 35 | Win rate: 0.660 | time: 304.6 seconds\n",
      "Epoch: 053/14999 | Loss: 0.0023 | Episodes: 2 | Win count: 36 | Win rate: 0.667 | time: 304.8 seconds\n",
      "Epoch: 054/14999 | Loss: 0.0021 | Episodes: 23 | Win count: 37 | Win rate: 0.673 | time: 306.4 seconds\n",
      "Epoch: 055/14999 | Loss: 0.0019 | Episodes: 47 | Win count: 38 | Win rate: 0.679 | time: 310.0 seconds\n",
      "Epoch: 056/14999 | Loss: 0.0016 | Episodes: 68 | Win count: 39 | Win rate: 0.684 | time: 315.2 seconds\n",
      "Epoch: 057/14999 | Loss: 0.0020 | Episodes: 7 | Win count: 40 | Win rate: 0.690 | time: 315.9 seconds\n",
      "Epoch: 058/14999 | Loss: 0.0020 | Episodes: 39 | Win count: 41 | Win rate: 0.695 | time: 319.0 seconds\n",
      "Epoch: 059/14999 | Loss: 0.0015 | Episodes: 10 | Win count: 42 | Win rate: 0.700 | time: 319.7 seconds\n",
      "Epoch: 060/14999 | Loss: 0.0019 | Episodes: 28 | Win count: 43 | Win rate: 0.705 | time: 321.7 seconds\n",
      "Epoch: 061/14999 | Loss: 0.0021 | Episodes: 1 | Win count: 44 | Win rate: 0.710 | time: 321.7 seconds\n",
      "Epoch: 062/14999 | Loss: 0.0022 | Episodes: 1 | Win count: 45 | Win rate: 0.714 | time: 321.8 seconds\n",
      "Epoch: 063/14999 | Loss: 0.0017 | Episodes: 40 | Win count: 46 | Win rate: 0.719 | time: 324.7 seconds\n",
      "Epoch: 064/14999 | Loss: 0.0012 | Episodes: 37 | Win count: 47 | Win rate: 0.723 | time: 327.6 seconds\n",
      "Epoch: 065/14999 | Loss: 0.0017 | Episodes: 25 | Win count: 48 | Win rate: 0.727 | time: 329.5 seconds\n",
      "Epoch: 066/14999 | Loss: 0.0017 | Episodes: 29 | Win count: 49 | Win rate: 0.731 | time: 331.6 seconds\n",
      "Epoch: 067/14999 | Loss: 0.0015 | Episodes: 33 | Win count: 50 | Win rate: 0.735 | time: 334.2 seconds\n",
      "Epoch: 068/14999 | Loss: 0.0018 | Episodes: 5 | Win count: 51 | Win rate: 0.739 | time: 334.6 seconds\n",
      "Epoch: 069/14999 | Loss: 0.0016 | Episodes: 1 | Win count: 52 | Win rate: 0.743 | time: 334.7 seconds\n",
      "Epoch: 070/14999 | Loss: 0.0013 | Episodes: 26 | Win count: 53 | Win rate: 0.746 | time: 336.8 seconds\n",
      "Epoch: 071/14999 | Loss: 0.0013 | Episodes: 2 | Win count: 54 | Win rate: 0.750 | time: 337.0 seconds\n",
      "Epoch: 072/14999 | Loss: 0.0020 | Episodes: 48 | Win count: 55 | Win rate: 0.753 | time: 340.5 seconds\n",
      "Epoch: 073/14999 | Loss: 0.0017 | Episodes: 40 | Win count: 56 | Win rate: 0.757 | time: 343.9 seconds\n",
      "Epoch: 074/14999 | Loss: 0.0012 | Episodes: 18 | Win count: 57 | Win rate: 0.760 | time: 345.5 seconds\n",
      "Epoch: 075/14999 | Loss: 0.0012 | Episodes: 48 | Win count: 58 | Win rate: 0.763 | time: 349.5 seconds\n",
      "Epoch: 076/14999 | Loss: 0.0010 | Episodes: 41 | Win count: 59 | Win rate: 0.766 | time: 353.5 seconds\n",
      "Epoch: 077/14999 | Loss: 0.0020 | Episodes: 10 | Win count: 60 | Win rate: 0.769 | time: 354.4 seconds\n",
      "Epoch: 078/14999 | Loss: 0.0011 | Episodes: 4 | Win count: 61 | Win rate: 0.772 | time: 355.0 seconds\n",
      "Epoch: 079/14999 | Loss: 0.0013 | Episodes: 1 | Win count: 62 | Win rate: 0.775 | time: 355.2 seconds\n"
     ]
    },
    {
     "name": "stdout",
     "output_type": "stream",
     "text": [
      "Epoch: 080/14999 | Loss: 0.0010 | Episodes: 30 | Win count: 63 | Win rate: 0.778 | time: 357.8 seconds\n",
      "Epoch: 081/14999 | Loss: 0.0012 | Episodes: 55 | Win count: 64 | Win rate: 0.780 | time: 362.5 seconds\n",
      "Epoch: 082/14999 | Loss: 0.0011 | Episodes: 13 | Win count: 65 | Win rate: 0.783 | time: 363.8 seconds\n",
      "Epoch: 083/14999 | Loss: 0.0010 | Episodes: 15 | Win count: 66 | Win rate: 0.786 | time: 365.2 seconds\n",
      "Epoch: 084/14999 | Loss: 0.0007 | Episodes: 9 | Win count: 67 | Win rate: 0.788 | time: 366.1 seconds\n",
      "Epoch: 085/14999 | Loss: 0.0012 | Episodes: 9 | Win count: 68 | Win rate: 0.791 | time: 366.9 seconds\n",
      "Epoch: 086/14999 | Loss: 0.0007 | Episodes: 7 | Win count: 69 | Win rate: 0.793 | time: 367.7 seconds\n",
      "Epoch: 087/14999 | Loss: 0.0011 | Episodes: 30 | Win count: 70 | Win rate: 0.795 | time: 370.1 seconds\n",
      "Epoch: 088/14999 | Loss: 0.0012 | Episodes: 29 | Win count: 71 | Win rate: 0.798 | time: 372.6 seconds\n",
      "Epoch: 089/14999 | Loss: 0.0011 | Episodes: 12 | Win count: 72 | Win rate: 0.800 | time: 373.8 seconds\n",
      "Epoch: 090/14999 | Loss: 0.0015 | Episodes: 23 | Win count: 73 | Win rate: 0.802 | time: 375.8 seconds\n",
      "Epoch: 091/14999 | Loss: 0.0011 | Episodes: 4 | Win count: 74 | Win rate: 0.804 | time: 376.4 seconds\n",
      "Epoch: 092/14999 | Loss: 0.0007 | Episodes: 29 | Win count: 75 | Win rate: 0.806 | time: 379.4 seconds\n",
      "Epoch: 093/14999 | Loss: 0.0007 | Episodes: 1 | Win count: 76 | Win rate: 0.809 | time: 379.6 seconds\n",
      "Epoch: 094/14999 | Loss: 0.0006 | Episodes: 18 | Win count: 77 | Win rate: 0.811 | time: 382.0 seconds\n",
      "Epoch: 095/14999 | Loss: 0.0005 | Episodes: 5 | Win count: 78 | Win rate: 0.812 | time: 382.6 seconds\n",
      "Epoch: 096/14999 | Loss: 0.0007 | Episodes: 1 | Win count: 79 | Win rate: 0.814 | time: 382.8 seconds\n",
      "Epoch: 097/14999 | Loss: 0.0007 | Episodes: 28 | Win count: 80 | Win rate: 0.816 | time: 385.3 seconds\n",
      "Epoch: 098/14999 | Loss: 0.0008 | Episodes: 16 | Win count: 81 | Win rate: 0.818 | time: 386.8 seconds\n",
      "Epoch: 099/14999 | Loss: 0.0006 | Episodes: 1 | Win count: 82 | Win rate: 0.820 | time: 387.0 seconds\n",
      "Epoch: 100/14999 | Loss: 0.0007 | Episodes: 29 | Win count: 83 | Win rate: 0.822 | time: 389.6 seconds\n",
      "Epoch: 101/14999 | Loss: 0.0008 | Episodes: 30 | Win count: 84 | Win rate: 0.824 | time: 392.3 seconds\n",
      "Epoch: 102/14999 | Loss: 0.0008 | Episodes: 22 | Win count: 85 | Win rate: 0.825 | time: 394.4 seconds\n",
      "Epoch: 103/14999 | Loss: 0.0006 | Episodes: 4 | Win count: 86 | Win rate: 0.827 | time: 394.9 seconds\n",
      "Epoch: 104/14999 | Loss: 0.0009 | Episodes: 18 | Win count: 87 | Win rate: 0.829 | time: 396.7 seconds\n",
      "Epoch: 105/14999 | Loss: 0.0008 | Episodes: 2 | Win count: 88 | Win rate: 0.830 | time: 397.1 seconds\n",
      "Epoch: 106/14999 | Loss: 0.0011 | Episodes: 66 | Win count: 89 | Win rate: 0.832 | time: 6.71 minutes\n",
      "Epoch: 107/14999 | Loss: 0.0012 | Episodes: 27 | Win count: 90 | Win rate: 0.833 | time: 6.75 minutes\n",
      "Epoch: 108/14999 | Loss: 0.0005 | Episodes: 13 | Win count: 91 | Win rate: 0.835 | time: 6.77 minutes\n",
      "Epoch: 109/14999 | Loss: 0.0012 | Episodes: 18 | Win count: 92 | Win rate: 0.836 | time: 6.80 minutes\n",
      "Epoch: 110/14999 | Loss: 0.0009 | Episodes: 2 | Win count: 93 | Win rate: 0.838 | time: 6.80 minutes\n",
      "Epoch: 111/14999 | Loss: 0.0006 | Episodes: 1 | Win count: 94 | Win rate: 0.839 | time: 6.81 minutes\n",
      "Epoch: 112/14999 | Loss: 0.0002 | Episodes: 29 | Win count: 95 | Win rate: 0.841 | time: 6.85 minutes\n",
      "Epoch: 113/14999 | Loss: 0.0005 | Episodes: 13 | Win count: 96 | Win rate: 0.842 | time: 6.87 minutes\n",
      "Epoch: 114/14999 | Loss: 0.0007 | Episodes: 7 | Win count: 97 | Win rate: 0.843 | time: 6.88 minutes\n",
      "Epoch: 115/14999 | Loss: 0.0004 | Episodes: 18 | Win count: 98 | Win rate: 0.845 | time: 6.91 minutes\n",
      "Epoch: 116/14999 | Loss: 0.0005 | Episodes: 30 | Win count: 99 | Win rate: 0.846 | time: 6.95 minutes\n",
      "Epoch: 117/14999 | Loss: 0.0003 | Episodes: 30 | Win count: 100 | Win rate: 0.847 | time: 6.99 minutes\n",
      "Epoch: 118/14999 | Loss: 0.0014 | Episodes: 22 | Win count: 101 | Win rate: 0.849 | time: 7.03 minutes\n",
      "Epoch: 119/14999 | Loss: 0.0003 | Episodes: 19 | Win count: 102 | Win rate: 0.850 | time: 7.05 minutes\n",
      "Epoch: 120/14999 | Loss: 0.0009 | Episodes: 2 | Win count: 103 | Win rate: 0.851 | time: 7.06 minutes\n",
      "Epoch: 121/14999 | Loss: 0.0006 | Episodes: 22 | Win count: 104 | Win rate: 0.852 | time: 7.10 minutes\n",
      "Epoch: 122/14999 | Loss: 0.0023 | Episodes: 31 | Win count: 105 | Win rate: 0.854 | time: 7.14 minutes\n",
      "Epoch: 123/14999 | Loss: 0.0009 | Episodes: 28 | Win count: 106 | Win rate: 0.855 | time: 7.18 minutes\n",
      "Epoch: 124/14999 | Loss: 0.0009 | Episodes: 21 | Win count: 107 | Win rate: 0.856 | time: 7.20 minutes\n",
      "Epoch: 125/14999 | Loss: 0.0010 | Episodes: 23 | Win count: 108 | Win rate: 0.857 | time: 7.24 minutes\n",
      "Epoch: 126/14999 | Loss: 0.0003 | Episodes: 20 | Win count: 109 | Win rate: 0.858 | time: 7.26 minutes\n",
      "Epoch: 127/14999 | Loss: 0.0011 | Episodes: 1 | Win count: 110 | Win rate: 0.859 | time: 7.27 minutes\n",
      "Epoch: 128/14999 | Loss: 0.0005 | Episodes: 49 | Win count: 111 | Win rate: 0.860 | time: 7.33 minutes\n",
      "Epoch: 129/14999 | Loss: 0.0009 | Episodes: 25 | Win count: 112 | Win rate: 0.862 | time: 7.37 minutes\n",
      "Epoch: 130/14999 | Loss: 0.0005 | Episodes: 27 | Win count: 113 | Win rate: 0.863 | time: 7.40 minutes\n",
      "Epoch: 131/14999 | Loss: 0.0007 | Episodes: 3 | Win count: 114 | Win rate: 0.864 | time: 7.41 minutes\n",
      "Epoch: 132/14999 | Loss: 0.0007 | Episodes: 15 | Win count: 115 | Win rate: 0.865 | time: 7.44 minutes\n",
      "Epoch: 133/14999 | Loss: 0.0009 | Episodes: 23 | Win count: 116 | Win rate: 0.866 | time: 7.47 minutes\n",
      "Epoch: 134/14999 | Loss: 0.0007 | Episodes: 15 | Win count: 117 | Win rate: 0.867 | time: 7.49 minutes\n",
      "Epoch: 135/14999 | Loss: 0.0003 | Episodes: 26 | Win count: 118 | Win rate: 0.868 | time: 7.53 minutes\n",
      "Epoch: 136/14999 | Loss: 0.0003 | Episodes: 11 | Win count: 119 | Win rate: 0.869 | time: 7.54 minutes\n",
      "Epoch: 137/14999 | Loss: 0.0006 | Episodes: 17 | Win count: 120 | Win rate: 0.870 | time: 7.57 minutes\n",
      "Epoch: 138/14999 | Loss: 0.0005 | Episodes: 36 | Win count: 121 | Win rate: 0.871 | time: 7.62 minutes\n",
      "Epoch: 139/14999 | Loss: 0.0007 | Episodes: 7 | Win count: 122 | Win rate: 0.871 | time: 7.63 minutes\n",
      "Epoch: 140/14999 | Loss: 0.0009 | Episodes: 21 | Win count: 123 | Win rate: 0.872 | time: 7.66 minutes\n",
      "Epoch: 141/14999 | Loss: 0.0006 | Episodes: 9 | Win count: 124 | Win rate: 0.873 | time: 7.68 minutes\n",
      "Epoch: 142/14999 | Loss: 0.0007 | Episodes: 12 | Win count: 125 | Win rate: 0.874 | time: 7.69 minutes\n",
      "Epoch: 143/14999 | Loss: 0.0004 | Episodes: 11 | Win count: 126 | Win rate: 0.875 | time: 7.72 minutes\n",
      "Epoch: 144/14999 | Loss: 0.0006 | Episodes: 15 | Win count: 127 | Win rate: 0.876 | time: 7.74 minutes\n",
      "Epoch: 145/14999 | Loss: 0.0011 | Episodes: 23 | Win count: 128 | Win rate: 0.877 | time: 7.77 minutes\n",
      "Epoch: 146/14999 | Loss: 0.0005 | Episodes: 19 | Win count: 129 | Win rate: 0.878 | time: 7.80 minutes\n",
      "Epoch: 147/14999 | Loss: 0.0003 | Episodes: 6 | Win count: 130 | Win rate: 0.878 | time: 7.81 minutes\n",
      "Epoch: 148/14999 | Loss: 0.0006 | Episodes: 23 | Win count: 131 | Win rate: 0.879 | time: 7.85 minutes\n",
      "Epoch: 149/14999 | Loss: 0.0009 | Episodes: 28 | Win count: 132 | Win rate: 0.880 | time: 7.89 minutes\n",
      "Epoch: 150/14999 | Loss: 0.0006 | Episodes: 17 | Win count: 133 | Win rate: 0.881 | time: 7.92 minutes\n",
      "Epoch: 151/14999 | Loss: 0.0004 | Episodes: 22 | Win count: 134 | Win rate: 0.882 | time: 7.96 minutes\n",
      "Epoch: 152/14999 | Loss: 0.0002 | Episodes: 17 | Win count: 135 | Win rate: 0.882 | time: 7.98 minutes\n",
      "Epoch: 153/14999 | Loss: 0.0004 | Episodes: 19 | Win count: 136 | Win rate: 0.883 | time: 8.01 minutes\n",
      "Epoch: 154/14999 | Loss: 0.0004 | Episodes: 4 | Win count: 137 | Win rate: 0.884 | time: 8.02 minutes\n",
      "Epoch: 155/14999 | Loss: 0.0007 | Episodes: 9 | Win count: 138 | Win rate: 0.885 | time: 8.04 minutes\n",
      "Epoch: 156/14999 | Loss: 0.0003 | Episodes: 40 | Win count: 139 | Win rate: 0.885 | time: 8.10 minutes\n",
      "Epoch: 157/14999 | Loss: 0.0001 | Episodes: 5 | Win count: 140 | Win rate: 0.886 | time: 8.11 minutes\n",
      "Epoch: 158/14999 | Loss: 0.0010 | Episodes: 27 | Win count: 141 | Win rate: 0.887 | time: 8.15 minutes\n",
      "Epoch: 159/14999 | Loss: 0.0009 | Episodes: 46 | Win count: 142 | Win rate: 0.887 | time: 8.21 minutes\n"
     ]
    },
    {
     "name": "stdout",
     "output_type": "stream",
     "text": [
      "Epoch: 160/14999 | Loss: 0.0006 | Episodes: 33 | Win count: 143 | Win rate: 0.888 | time: 8.26 minutes\n",
      "Epoch: 161/14999 | Loss: 0.0010 | Episodes: 1 | Win count: 144 | Win rate: 0.889 | time: 8.27 minutes\n",
      "Epoch: 162/14999 | Loss: 0.0006 | Episodes: 32 | Win count: 145 | Win rate: 0.890 | time: 8.31 minutes\n",
      "Epoch: 163/14999 | Loss: 0.0008 | Episodes: 12 | Win count: 146 | Win rate: 0.890 | time: 8.33 minutes\n",
      "Epoch: 164/14999 | Loss: 0.0008 | Episodes: 6 | Win count: 147 | Win rate: 0.891 | time: 8.35 minutes\n",
      "Epoch: 165/14999 | Loss: 0.0004 | Episodes: 22 | Win count: 148 | Win rate: 0.892 | time: 8.38 minutes\n",
      "Epoch: 166/14999 | Loss: 0.0009 | Episodes: 9 | Win count: 149 | Win rate: 0.892 | time: 8.40 minutes\n",
      "Epoch: 167/14999 | Loss: 0.0010 | Episodes: 25 | Win count: 150 | Win rate: 0.893 | time: 8.43 minutes\n",
      "Epoch: 168/14999 | Loss: 0.0014 | Episodes: 45 | Win count: 151 | Win rate: 0.893 | time: 8.49 minutes\n",
      "Epoch: 169/14999 | Loss: 0.0013 | Episodes: 66 | Win count: 152 | Win rate: 0.894 | time: 8.58 minutes\n",
      "Epoch: 170/14999 | Loss: 0.0017 | Episodes: 30 | Win count: 153 | Win rate: 0.895 | time: 8.63 minutes\n",
      "Epoch: 171/14999 | Loss: 0.0014 | Episodes: 42 | Win count: 154 | Win rate: 0.895 | time: 8.68 minutes\n",
      "Epoch: 172/14999 | Loss: 0.0031 | Episodes: 48 | Win count: 155 | Win rate: 0.896 | time: 8.75 minutes\n",
      "Epoch: 173/14999 | Loss: 0.0023 | Episodes: 29 | Win count: 156 | Win rate: 0.897 | time: 8.79 minutes\n",
      "Epoch: 174/14999 | Loss: 0.0013 | Episodes: 37 | Win count: 157 | Win rate: 0.897 | time: 8.84 minutes\n",
      "Epoch: 175/14999 | Loss: 0.0011 | Episodes: 5 | Win count: 158 | Win rate: 0.898 | time: 8.85 minutes\n",
      "Epoch: 176/14999 | Loss: 0.0018 | Episodes: 21 | Win count: 159 | Win rate: 0.898 | time: 8.88 minutes\n",
      "Epoch: 177/14999 | Loss: 0.0011 | Episodes: 3 | Win count: 160 | Win rate: 0.899 | time: 8.88 minutes\n",
      "Epoch: 178/14999 | Loss: 0.0014 | Episodes: 72 | Win count: 161 | Win rate: 0.899 | time: 8.98 minutes\n",
      "Epoch: 179/14999 | Loss: 0.0014 | Episodes: 21 | Win count: 162 | Win rate: 0.900 | time: 9.01 minutes\n",
      "Epoch: 180/14999 | Loss: 0.0016 | Episodes: 61 | Win count: 163 | Win rate: 0.901 | time: 9.09 minutes\n",
      "Epoch: 181/14999 | Loss: 0.0012 | Episodes: 22 | Win count: 164 | Win rate: 0.901 | time: 9.12 minutes\n",
      "Epoch: 182/14999 | Loss: 0.0014 | Episodes: 30 | Win count: 165 | Win rate: 0.902 | time: 9.16 minutes\n",
      "Epoch: 183/14999 | Loss: 0.0019 | Episodes: 33 | Win count: 166 | Win rate: 0.902 | time: 9.21 minutes\n",
      "Epoch: 184/14999 | Loss: 0.0019 | Episodes: 15 | Win count: 167 | Win rate: 0.903 | time: 9.23 minutes\n",
      "Epoch: 185/14999 | Loss: 0.0009 | Episodes: 46 | Win count: 168 | Win rate: 0.903 | time: 9.29 minutes\n",
      "Epoch: 186/14999 | Loss: 0.0015 | Episodes: 18 | Win count: 169 | Win rate: 0.904 | time: 9.31 minutes\n",
      "Epoch: 187/14999 | Loss: 0.0006 | Episodes: 28 | Win count: 170 | Win rate: 0.904 | time: 9.35 minutes\n",
      "Epoch: 188/14999 | Loss: 0.0007 | Episodes: 4 | Win count: 171 | Win rate: 0.905 | time: 9.36 minutes\n",
      "Epoch: 189/14999 | Loss: 0.0009 | Episodes: 19 | Win count: 172 | Win rate: 0.905 | time: 9.39 minutes\n",
      "Epoch: 190/14999 | Loss: 0.0011 | Episodes: 24 | Win count: 173 | Win rate: 0.906 | time: 9.42 minutes\n",
      "Epoch: 191/14999 | Loss: 0.0013 | Episodes: 15 | Win count: 174 | Win rate: 0.906 | time: 9.45 minutes\n",
      "Epoch: 192/14999 | Loss: 0.0008 | Episodes: 27 | Win count: 175 | Win rate: 0.907 | time: 9.48 minutes\n",
      "Epoch: 193/14999 | Loss: 0.0010 | Episodes: 31 | Win count: 176 | Win rate: 0.907 | time: 9.52 minutes\n",
      "Epoch: 194/14999 | Loss: 0.0012 | Episodes: 9 | Win count: 177 | Win rate: 0.908 | time: 9.54 minutes\n",
      "Epoch: 195/14999 | Loss: 0.0011 | Episodes: 16 | Win count: 178 | Win rate: 0.908 | time: 9.56 minutes\n",
      "Epoch: 196/14999 | Loss: 0.0010 | Episodes: 25 | Win count: 179 | Win rate: 0.909 | time: 9.60 minutes\n",
      "Epoch: 197/14999 | Loss: 0.0009 | Episodes: 21 | Win count: 180 | Win rate: 0.909 | time: 9.63 minutes\n",
      "Epoch: 198/14999 | Loss: 0.0004 | Episodes: 30 | Win count: 181 | Win rate: 0.910 | time: 9.67 minutes\n",
      "Epoch: 199/14999 | Loss: 0.0007 | Episodes: 44 | Win count: 182 | Win rate: 0.910 | time: 9.72 minutes\n",
      "Epoch: 200/14999 | Loss: 0.0008 | Episodes: 7 | Win count: 183 | Win rate: 0.910 | time: 9.73 minutes\n",
      "Epoch: 201/14999 | Loss: 0.0010 | Episodes: 39 | Win count: 184 | Win rate: 0.911 | time: 9.79 minutes\n",
      "Epoch: 202/14999 | Loss: 0.0013 | Episodes: 16 | Win count: 185 | Win rate: 0.911 | time: 9.81 minutes\n",
      "Epoch: 203/14999 | Loss: 0.0011 | Episodes: 60 | Win count: 186 | Win rate: 0.912 | time: 9.88 minutes\n",
      "Epoch: 204/14999 | Loss: 0.0010 | Episodes: 13 | Win count: 187 | Win rate: 0.912 | time: 9.90 minutes\n",
      "Epoch: 205/14999 | Loss: 0.0010 | Episodes: 33 | Win count: 188 | Win rate: 0.913 | time: 9.94 minutes\n",
      "Epoch: 206/14999 | Loss: 0.0004 | Episodes: 1 | Win count: 189 | Win rate: 0.913 | time: 9.95 minutes\n",
      "Epoch: 207/14999 | Loss: 0.0004 | Episodes: 23 | Win count: 190 | Win rate: 0.913 | time: 9.99 minutes\n",
      "Epoch: 208/14999 | Loss: 0.0009 | Episodes: 23 | Win count: 191 | Win rate: 0.914 | time: 10.02 minutes\n",
      "Epoch: 209/14999 | Loss: 0.0011 | Episodes: 26 | Win count: 192 | Win rate: 0.914 | time: 10.06 minutes\n",
      "Epoch: 210/14999 | Loss: 0.0010 | Episodes: 12 | Win count: 193 | Win rate: 0.915 | time: 10.08 minutes\n",
      "Epoch: 211/14999 | Loss: 0.0006 | Episodes: 12 | Win count: 194 | Win rate: 0.915 | time: 10.09 minutes\n",
      "Epoch: 212/14999 | Loss: 0.0009 | Episodes: 23 | Win count: 195 | Win rate: 0.915 | time: 10.13 minutes\n",
      "Epoch: 213/14999 | Loss: 0.0007 | Episodes: 53 | Win count: 196 | Win rate: 0.916 | time: 10.19 minutes\n",
      "Epoch: 214/14999 | Loss: 0.0010 | Episodes: 1 | Win count: 197 | Win rate: 0.916 | time: 10.20 minutes\n",
      "Epoch: 215/14999 | Loss: 0.0011 | Episodes: 42 | Win count: 198 | Win rate: 0.917 | time: 10.26 minutes\n",
      "Epoch: 216/14999 | Loss: 0.0011 | Episodes: 9 | Win count: 199 | Win rate: 0.917 | time: 10.27 minutes\n",
      "Epoch: 217/14999 | Loss: 0.0009 | Episodes: 7 | Win count: 200 | Win rate: 0.917 | time: 10.29 minutes\n",
      "Epoch: 218/14999 | Loss: 0.0009 | Episodes: 11 | Win count: 201 | Win rate: 0.918 | time: 10.30 minutes\n",
      "Epoch: 219/14999 | Loss: 0.0007 | Episodes: 39 | Win count: 202 | Win rate: 0.918 | time: 10.36 minutes\n",
      "Epoch: 220/14999 | Loss: 0.0015 | Episodes: 40 | Win count: 203 | Win rate: 0.919 | time: 10.42 minutes\n",
      "Epoch: 221/14999 | Loss: 0.0005 | Episodes: 30 | Win count: 204 | Win rate: 0.919 | time: 10.45 minutes\n",
      "Epoch: 222/14999 | Loss: 0.0011 | Episodes: 18 | Win count: 205 | Win rate: 0.919 | time: 10.49 minutes\n",
      "Epoch: 223/14999 | Loss: 0.0013 | Episodes: 13 | Win count: 206 | Win rate: 0.920 | time: 10.50 minutes\n",
      "Epoch: 224/14999 | Loss: 0.0011 | Episodes: 36 | Win count: 207 | Win rate: 0.920 | time: 10.56 minutes\n",
      "Epoch: 225/14999 | Loss: 0.0006 | Episodes: 6 | Win count: 208 | Win rate: 0.920 | time: 10.57 minutes\n",
      "Epoch: 226/14999 | Loss: 0.0009 | Episodes: 44 | Win count: 209 | Win rate: 0.921 | time: 10.63 minutes\n",
      "Epoch: 227/14999 | Loss: 0.0012 | Episodes: 19 | Win count: 210 | Win rate: 0.921 | time: 10.66 minutes\n",
      "Epoch: 228/14999 | Loss: 0.0006 | Episodes: 33 | Win count: 211 | Win rate: 0.921 | time: 10.71 minutes\n",
      "Epoch: 229/14999 | Loss: 0.0004 | Episodes: 33 | Win count: 212 | Win rate: 0.922 | time: 10.75 minutes\n",
      "Epoch: 230/14999 | Loss: 0.0020 | Episodes: 16 | Win count: 213 | Win rate: 0.922 | time: 10.78 minutes\n",
      "Epoch: 231/14999 | Loss: 0.0007 | Episodes: 29 | Win count: 214 | Win rate: 0.922 | time: 10.82 minutes\n",
      "Epoch: 232/14999 | Loss: 0.0015 | Episodes: 68 | Win count: 215 | Win rate: 0.923 | time: 10.92 minutes\n",
      "Epoch: 233/14999 | Loss: 0.0006 | Episodes: 38 | Win count: 216 | Win rate: 0.923 | time: 10.97 minutes\n",
      "Epoch: 234/14999 | Loss: 0.0003 | Episodes: 85 | Win count: 217 | Win rate: 0.923 | time: 11.08 minutes\n",
      "Epoch: 235/14999 | Loss: 0.0011 | Episodes: 18 | Win count: 218 | Win rate: 0.924 | time: 11.11 minutes\n",
      "Epoch: 236/14999 | Loss: 0.0008 | Episodes: 50 | Win count: 219 | Win rate: 0.924 | time: 11.20 minutes\n",
      "Epoch: 237/14999 | Loss: 0.0006 | Episodes: 24 | Win count: 220 | Win rate: 0.924 | time: 11.24 minutes\n",
      "Epoch: 238/14999 | Loss: 0.0003 | Episodes: 37 | Win count: 221 | Win rate: 0.925 | time: 11.30 minutes\n",
      "Epoch: 239/14999 | Loss: 0.0015 | Episodes: 19 | Win count: 222 | Win rate: 0.925 | time: 11.33 minutes\n"
     ]
    },
    {
     "name": "stdout",
     "output_type": "stream",
     "text": [
      "Epoch: 240/14999 | Loss: 0.0005 | Episodes: 46 | Win count: 223 | Win rate: 0.925 | time: 11.40 minutes\n",
      "Epoch: 241/14999 | Loss: 0.0006 | Episodes: 19 | Win count: 224 | Win rate: 0.926 | time: 11.44 minutes\n",
      "Epoch: 242/14999 | Loss: 0.0004 | Episodes: 15 | Win count: 225 | Win rate: 0.926 | time: 11.46 minutes\n",
      "Epoch: 243/14999 | Loss: 0.0010 | Episodes: 29 | Win count: 226 | Win rate: 0.926 | time: 11.51 minutes\n",
      "Epoch: 244/14999 | Loss: 0.0007 | Episodes: 9 | Win count: 227 | Win rate: 0.927 | time: 11.53 minutes\n",
      "Epoch: 245/14999 | Loss: 0.0002 | Episodes: 2 | Win count: 228 | Win rate: 0.927 | time: 11.54 minutes\n",
      "Epoch: 246/14999 | Loss: 0.0005 | Episodes: 19 | Win count: 229 | Win rate: 0.927 | time: 11.57 minutes\n",
      "Epoch: 247/14999 | Loss: 0.0002 | Episodes: 23 | Win count: 230 | Win rate: 0.927 | time: 11.61 minutes\n",
      "Epoch: 248/14999 | Loss: 0.0005 | Episodes: 2 | Win count: 231 | Win rate: 0.928 | time: 11.62 minutes\n",
      "Epoch: 249/14999 | Loss: 0.0002 | Episodes: 23 | Win count: 232 | Win rate: 0.928 | time: 11.66 minutes\n",
      "Epoch: 250/14999 | Loss: 0.0008 | Episodes: 20 | Win count: 233 | Win rate: 0.928 | time: 11.69 minutes\n",
      "Epoch: 251/14999 | Loss: 0.0004 | Episodes: 26 | Win count: 234 | Win rate: 0.929 | time: 11.74 minutes\n",
      "Epoch: 252/14999 | Loss: 0.0002 | Episodes: 31 | Win count: 235 | Win rate: 0.929 | time: 11.79 minutes\n",
      "Epoch: 253/14999 | Loss: 0.0014 | Episodes: 13 | Win count: 236 | Win rate: 0.929 | time: 11.81 minutes\n",
      "Epoch: 254/14999 | Loss: 0.0009 | Episodes: 13 | Win count: 237 | Win rate: 0.929 | time: 11.84 minutes\n",
      "Epoch: 255/14999 | Loss: 0.0007 | Episodes: 33 | Win count: 238 | Win rate: 0.930 | time: 11.89 minutes\n",
      "Epoch: 256/14999 | Loss: 0.0001 | Episodes: 29 | Win count: 239 | Win rate: 0.930 | time: 11.93 minutes\n",
      "Epoch: 257/14999 | Loss: 0.0003 | Episodes: 26 | Win count: 240 | Win rate: 0.930 | time: 11.97 minutes\n",
      "Epoch: 258/14999 | Loss: 0.0004 | Episodes: 13 | Win count: 241 | Win rate: 0.931 | time: 11.99 minutes\n",
      "Epoch: 259/14999 | Loss: 0.0003 | Episodes: 25 | Win count: 242 | Win rate: 0.931 | time: 12.04 minutes\n",
      "Epoch: 260/14999 | Loss: 0.0001 | Episodes: 2 | Win count: 243 | Win rate: 0.931 | time: 12.05 minutes\n",
      "Epoch: 261/14999 | Loss: 0.0007 | Episodes: 25 | Win count: 244 | Win rate: 0.931 | time: 12.10 minutes\n",
      "Epoch: 262/14999 | Loss: 0.0007 | Episodes: 15 | Win count: 245 | Win rate: 0.932 | time: 12.13 minutes\n",
      "Epoch: 263/14999 | Loss: 0.0001 | Episodes: 24 | Win count: 246 | Win rate: 0.932 | time: 12.18 minutes\n",
      "Epoch: 264/14999 | Loss: 0.0002 | Episodes: 46 | Win count: 247 | Win rate: 0.932 | time: 12.24 minutes\n",
      "Epoch: 265/14999 | Loss: 0.0004 | Episodes: 23 | Win count: 248 | Win rate: 0.932 | time: 12.27 minutes\n",
      "Epoch: 266/14999 | Loss: 0.0012 | Episodes: 41 | Win count: 249 | Win rate: 0.933 | time: 12.34 minutes\n",
      "Epoch: 267/14999 | Loss: 0.0002 | Episodes: 22 | Win count: 250 | Win rate: 0.933 | time: 12.37 minutes\n",
      "Epoch: 268/14999 | Loss: 0.0014 | Episodes: 30 | Win count: 251 | Win rate: 0.933 | time: 12.41 minutes\n",
      "Epoch: 269/14999 | Loss: 0.0002 | Episodes: 18 | Win count: 252 | Win rate: 0.933 | time: 12.44 minutes\n",
      "Epoch: 270/14999 | Loss: 0.0009 | Episodes: 9 | Win count: 253 | Win rate: 0.934 | time: 12.46 minutes\n",
      "Epoch: 271/14999 | Loss: 0.0011 | Episodes: 1 | Win count: 254 | Win rate: 0.934 | time: 12.46 minutes\n",
      "Epoch: 272/14999 | Loss: 0.0001 | Episodes: 13 | Win count: 255 | Win rate: 0.934 | time: 12.48 minutes\n",
      "Epoch: 273/14999 | Loss: 0.0002 | Episodes: 23 | Win count: 256 | Win rate: 0.934 | time: 12.52 minutes\n",
      "Epoch: 274/14999 | Loss: 0.0003 | Episodes: 20 | Win count: 257 | Win rate: 0.935 | time: 12.56 minutes\n",
      "Epoch: 275/14999 | Loss: 0.0008 | Episodes: 31 | Win count: 258 | Win rate: 0.935 | time: 12.60 minutes\n",
      "Epoch: 276/14999 | Loss: 0.0004 | Episodes: 22 | Win count: 259 | Win rate: 0.935 | time: 12.64 minutes\n",
      "Epoch: 277/14999 | Loss: 0.0003 | Episodes: 6 | Win count: 260 | Win rate: 0.935 | time: 12.65 minutes\n",
      "Epoch: 278/14999 | Loss: 0.0009 | Episodes: 25 | Win count: 261 | Win rate: 0.935 | time: 12.69 minutes\n",
      "Epoch: 279/14999 | Loss: 0.0009 | Episodes: 14 | Win count: 262 | Win rate: 0.936 | time: 12.71 minutes\n",
      "Epoch: 280/14999 | Loss: 0.0007 | Episodes: 26 | Win count: 263 | Win rate: 0.936 | time: 12.74 minutes\n",
      "Epoch: 281/14999 | Loss: 0.0011 | Episodes: 21 | Win count: 264 | Win rate: 0.936 | time: 12.77 minutes\n",
      "Epoch: 282/14999 | Loss: 0.0018 | Episodes: 36 | Win count: 265 | Win rate: 0.936 | time: 12.82 minutes\n",
      "Epoch: 283/14999 | Loss: 0.0004 | Episodes: 34 | Win count: 266 | Win rate: 0.937 | time: 12.87 minutes\n",
      "Epoch: 284/14999 | Loss: 0.0004 | Episodes: 2 | Win count: 267 | Win rate: 0.937 | time: 12.88 minutes\n",
      "Epoch: 285/14999 | Loss: 0.0008 | Episodes: 23 | Win count: 268 | Win rate: 0.937 | time: 12.91 minutes\n",
      "Epoch: 286/14999 | Loss: 0.0008 | Episodes: 16 | Win count: 269 | Win rate: 0.937 | time: 12.94 minutes\n",
      "Epoch: 287/14999 | Loss: 0.0005 | Episodes: 20 | Win count: 270 | Win rate: 0.938 | time: 12.96 minutes\n",
      "Epoch: 288/14999 | Loss: 0.0009 | Episodes: 45 | Win count: 271 | Win rate: 0.938 | time: 13.02 minutes\n",
      "Epoch: 289/14999 | Loss: 0.0014 | Episodes: 25 | Win count: 272 | Win rate: 0.938 | time: 13.06 minutes\n",
      "Epoch: 290/14999 | Loss: 0.0007 | Episodes: 45 | Win count: 273 | Win rate: 0.938 | time: 13.12 minutes\n",
      "Epoch: 291/14999 | Loss: 0.0006 | Episodes: 30 | Win count: 274 | Win rate: 0.938 | time: 13.17 minutes\n",
      "Epoch: 292/14999 | Loss: 0.0015 | Episodes: 3 | Win count: 275 | Win rate: 0.939 | time: 13.17 minutes\n",
      "Epoch: 293/14999 | Loss: 0.0003 | Episodes: 22 | Win count: 276 | Win rate: 0.939 | time: 13.21 minutes\n",
      "Epoch: 294/14999 | Loss: 0.0008 | Episodes: 12 | Win count: 277 | Win rate: 0.939 | time: 13.23 minutes\n",
      "Epoch: 295/14999 | Loss: 0.0005 | Episodes: 2 | Win count: 278 | Win rate: 0.939 | time: 13.24 minutes\n",
      "Epoch: 296/14999 | Loss: 0.0009 | Episodes: 10 | Win count: 279 | Win rate: 0.939 | time: 13.25 minutes\n",
      "Epoch: 297/14999 | Loss: 0.0012 | Episodes: 28 | Win count: 280 | Win rate: 0.940 | time: 13.29 minutes\n",
      "Epoch: 298/14999 | Loss: 0.0006 | Episodes: 23 | Win count: 281 | Win rate: 0.940 | time: 13.33 minutes\n",
      "Epoch: 299/14999 | Loss: 0.0005 | Episodes: 31 | Win count: 282 | Win rate: 0.940 | time: 13.37 minutes\n",
      "Epoch: 300/14999 | Loss: 0.0005 | Episodes: 30 | Win count: 283 | Win rate: 0.940 | time: 13.42 minutes\n",
      "Epoch: 301/14999 | Loss: 0.0013 | Episodes: 11 | Win count: 284 | Win rate: 0.940 | time: 13.43 minutes\n",
      "Epoch: 302/14999 | Loss: 0.0008 | Episodes: 3 | Win count: 285 | Win rate: 0.941 | time: 13.44 minutes\n",
      "Epoch: 303/14999 | Loss: 0.0005 | Episodes: 43 | Win count: 286 | Win rate: 0.941 | time: 13.51 minutes\n",
      "Epoch: 304/14999 | Loss: 0.0009 | Episodes: 4 | Win count: 287 | Win rate: 0.941 | time: 13.52 minutes\n",
      "Epoch: 305/14999 | Loss: 0.0003 | Episodes: 16 | Win count: 288 | Win rate: 0.941 | time: 13.55 minutes\n",
      "Epoch: 306/14999 | Loss: 0.0004 | Episodes: 16 | Win count: 289 | Win rate: 0.941 | time: 13.57 minutes\n",
      "Epoch: 307/14999 | Loss: 0.0011 | Episodes: 2 | Win count: 290 | Win rate: 0.942 | time: 13.58 minutes\n",
      "Epoch: 308/14999 | Loss: 0.0013 | Episodes: 20 | Win count: 291 | Win rate: 0.942 | time: 13.62 minutes\n",
      "Epoch: 309/14999 | Loss: 0.0014 | Episodes: 34 | Win count: 292 | Win rate: 0.942 | time: 13.67 minutes\n",
      "Epoch: 310/14999 | Loss: 0.0013 | Episodes: 60 | Win count: 293 | Win rate: 0.942 | time: 13.75 minutes\n",
      "Epoch: 311/14999 | Loss: 0.0011 | Episodes: 4 | Win count: 294 | Win rate: 0.942 | time: 13.75 minutes\n",
      "Epoch: 312/14999 | Loss: 0.0016 | Episodes: 26 | Win count: 295 | Win rate: 0.942 | time: 13.79 minutes\n",
      "Epoch: 313/14999 | Loss: 0.0029 | Episodes: 2 | Win count: 296 | Win rate: 0.943 | time: 13.79 minutes\n",
      "Epoch: 314/14999 | Loss: 0.0014 | Episodes: 19 | Win count: 297 | Win rate: 0.943 | time: 13.82 minutes\n",
      "Epoch: 315/14999 | Loss: 0.0008 | Episodes: 44 | Win count: 298 | Win rate: 0.943 | time: 13.88 minutes\n",
      "Epoch: 316/14999 | Loss: 0.0003 | Episodes: 17 | Win count: 299 | Win rate: 0.943 | time: 13.90 minutes\n",
      "Epoch: 317/14999 | Loss: 0.0008 | Episodes: 9 | Win count: 300 | Win rate: 0.943 | time: 13.92 minutes\n",
      "Epoch: 318/14999 | Loss: 0.0005 | Episodes: 11 | Win count: 301 | Win rate: 0.944 | time: 13.94 minutes\n"
     ]
    },
    {
     "name": "stdout",
     "output_type": "stream",
     "text": [
      "Epoch: 319/14999 | Loss: 0.0006 | Episodes: 9 | Win count: 302 | Win rate: 0.944 | time: 13.96 minutes\n",
      "Epoch: 320/14999 | Loss: 0.0007 | Episodes: 7 | Win count: 303 | Win rate: 0.944 | time: 13.97 minutes\n",
      "Epoch: 321/14999 | Loss: 0.0005 | Episodes: 34 | Win count: 304 | Win rate: 0.944 | time: 14.02 minutes\n",
      "Epoch: 322/14999 | Loss: 0.0003 | Episodes: 21 | Win count: 305 | Win rate: 0.944 | time: 14.06 minutes\n",
      "Epoch: 323/14999 | Loss: 0.0005 | Episodes: 14 | Win count: 306 | Win rate: 0.944 | time: 14.08 minutes\n",
      "Epoch: 324/14999 | Loss: 0.0004 | Episodes: 2 | Win count: 307 | Win rate: 0.945 | time: 14.09 minutes\n",
      "Epoch: 325/14999 | Loss: 0.0009 | Episodes: 23 | Win count: 308 | Win rate: 0.945 | time: 14.12 minutes\n",
      "Epoch: 326/14999 | Loss: 0.0009 | Episodes: 7 | Win count: 309 | Win rate: 0.945 | time: 14.13 minutes\n",
      "Epoch: 327/14999 | Loss: 0.0003 | Episodes: 25 | Win count: 310 | Win rate: 0.945 | time: 14.16 minutes\n",
      "Epoch: 328/14999 | Loss: 0.0007 | Episodes: 10 | Win count: 311 | Win rate: 0.945 | time: 14.18 minutes\n",
      "Epoch: 329/14999 | Loss: 0.0006 | Episodes: 36 | Win count: 312 | Win rate: 0.945 | time: 14.23 minutes\n",
      "Epoch: 330/14999 | Loss: 0.0012 | Episodes: 47 | Win count: 313 | Win rate: 0.946 | time: 14.30 minutes\n",
      "Epoch: 331/14999 | Loss: 0.0025 | Episodes: 16 | Win count: 314 | Win rate: 0.946 | time: 14.32 minutes\n",
      "Epoch: 332/14999 | Loss: 0.0008 | Episodes: 33 | Win count: 315 | Win rate: 0.946 | time: 14.37 minutes\n",
      "Epoch: 333/14999 | Loss: 0.0014 | Episodes: 15 | Win count: 316 | Win rate: 0.946 | time: 14.39 minutes\n",
      "Epoch: 334/14999 | Loss: 0.0009 | Episodes: 31 | Win count: 317 | Win rate: 0.946 | time: 14.44 minutes\n",
      "Epoch: 335/14999 | Loss: 0.0006 | Episodes: 23 | Win count: 318 | Win rate: 0.946 | time: 14.47 minutes\n",
      "Epoch: 336/14999 | Loss: 0.0006 | Episodes: 43 | Win count: 319 | Win rate: 0.947 | time: 14.53 minutes\n",
      "Epoch: 337/14999 | Loss: 0.0005 | Episodes: 32 | Win count: 320 | Win rate: 0.947 | time: 14.57 minutes\n",
      "Reached 100% win rate at epoch: 337\n",
      "n_epoch: 337, max_mem: 512, data: 32, time: 14.59 minutes\n"
     ]
    },
    {
     "data": {
      "text/plain": [
       "875.116066"
      ]
     },
     "execution_count": 11,
     "metadata": {},
     "output_type": "execute_result"
    }
   ],
   "source": [
    "model = build_model(maze)\n",
    "qtrain(model, maze, epochs=1000, max_memory=8*maze.size, data_size=32)"
   ]
  },
  {
   "cell_type": "markdown",
   "metadata": {},
   "source": [
    "This cell will check to see if the model passes the completion check. Note: This could take several minutes."
   ]
  },
  {
   "cell_type": "code",
   "execution_count": 12,
   "metadata": {},
   "outputs": [
    {
     "data": {
      "text/plain": [
       "<matplotlib.image.AxesImage at 0x1762f9fa6c8>"
      ]
     },
     "execution_count": 12,
     "metadata": {},
     "output_type": "execute_result"
    },
    {
     "data": {
      "image/png": "[encoded data removed]",
      "text/plain": [
       "<Figure size 432x288 with 1 Axes>"
      ]
     },
     "metadata": {
      "needs_background": "light"
     },
     "output_type": "display_data"
    }
   ],
   "source": [
    "completion_check(model, qmaze)\n",
    "show(qmaze)"
   ]
  },
  {
   "cell_type": "markdown",
   "metadata": {},
   "source": [
    "This cell will test your model for one game. It will start the pirate at the top-left corner and run play_game. The agent should find a path from the starting position to the target (treasure). The treasure is located in the bottom-right corner."
   ]
  },
  {
   "cell_type": "code",
   "execution_count": 13,
   "metadata": {},
   "outputs": [
    {
     "data": {
      "text/plain": [
       "<matplotlib.image.AxesImage at 0x176379d96c8>"
      ]
     },
     "execution_count": 13,
     "metadata": {},
     "output_type": "execute_result"
    },
    {
     "data": {
      "image/png": "[encoded data removed]",
      "text/plain": [
       "<Figure size 432x288 with 1 Axes>"
      ]
     },
     "metadata": {
      "needs_background": "light"
     },
     "output_type": "display_data"
    }
   ],
   "source": [
    "pirate_start = (0, 0)\n",
    "play_game(model, qmaze, pirate_start)\n",
    "show(qmaze)"
   ]
  },
  {
   "cell_type": "markdown",
   "metadata": {},
   "source": [
    "## Save and Submit Your Work\n",
    "After you have finished creating the code for your notebook, save your work. Make sure that your notebook contains your name in the filename (e.g. Doe_Jane_ProjectTwo.ipynb). This will help your instructor access and grade your work easily. Download a copy of your IPYNB file and submit it to Brightspace. Refer to the Jupyter Notebook in Apporto Tutorial if you need help with these tasks."
   ]
  }
 ],
 "metadata": {
  "kernelspec": {
   "display_name": "Python 3",
   "language": "python",
   "name": "python3"
  },
  "language_info": {
   "codemirror_mode": {
    "name": "ipython",
    "version": 3
   },
   "file_extension": ".py",
   "mimetype": "text/x-python",
   "name": "python",
   "nbconvert_exporter": "python",
   "pygments_lexer": "ipython3",
   "version": "3.7.4"
  }
 },
 "nbformat": 4,
 "nbformat_minor": 2
}
